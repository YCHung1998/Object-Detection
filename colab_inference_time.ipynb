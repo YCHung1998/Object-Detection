{
 "cells": [
  {
   "cell_type": "markdown",
   "metadata": {
    "id": "hkY-wXM-BZG0"
   },
   "source": [
    "# Use Google Drive"
   ]
  },
  {
   "cell_type": "code",
   "execution_count": 1,
   "metadata": {
    "colab": {
     "base_uri": "https://localhost:8080/"
    },
    "id": "dLox14dy8cMX",
    "outputId": "55fd9329-1d33-4cef-8c5d-7c3f5967a9f3"
   },
   "outputs": [
    {
     "name": "stdout",
     "output_type": "stream",
     "text": [
      "Mounted at /content/gdrive\n",
      "/content/gdrive/MyDrive/Colab Notebooks/DL\n",
      "1.png\t\t       Data.csv\t\t references  train_id.csv\n",
      "2021VRDL_HW1_datasets  Info.json\t test\t     valid_id.csv\n",
      "bg.jpg\t\t       Object-Detection  train\n"
     ]
    }
   ],
   "source": [
    "from google.colab import drive\n",
    "import os\n",
    "drive.mount('/content/gdrive')\n",
    "% cd / content / gdrive / MyDrive / Colab Notebooks/DL\n",
    "!ls\n"
   ]
  },
  {
   "cell_type": "markdown",
   "metadata": {
    "id": "HqA2jJbpBdiL"
   },
   "source": [
    "# Use GPU"
   ]
  },
  {
   "cell_type": "code",
   "execution_count": 2,
   "metadata": {
    "colab": {
     "base_uri": "https://localhost:8080/"
    },
    "id": "jorrrSjlBjRs",
    "outputId": "294ab588-0b21-42fd-fe55-cee835b959d4"
   },
   "outputs": [
    {
     "name": "stdout",
     "output_type": "stream",
     "text": [
      "Wed Nov 24 13:11:25 2021       \n",
      "+-----------------------------------------------------------------------------+\n",
      "| NVIDIA-SMI 495.44       Driver Version: 460.32.03    CUDA Version: 11.2     |\n",
      "|-------------------------------+----------------------+----------------------+\n",
      "| GPU  Name        Persistence-M| Bus-Id        Disp.A | Volatile Uncorr. ECC |\n",
      "| Fan  Temp  Perf  Pwr:Usage/Cap|         Memory-Usage | GPU-Util  Compute M. |\n",
      "|                               |                      |               MIG M. |\n",
      "|===============================+======================+======================|\n",
      "|   0  Tesla K80           Off  | 00000000:00:04.0 Off |                    0 |\n",
      "| N/A   39C    P8    26W / 149W |      0MiB / 11441MiB |      0%      Default |\n",
      "|                               |                      |                  N/A |\n",
      "+-------------------------------+----------------------+----------------------+\n",
      "                                                                               \n",
      "+-----------------------------------------------------------------------------+\n",
      "| Processes:                                                                  |\n",
      "|  GPU   GI   CI        PID   Type   Process name                  GPU Memory |\n",
      "|        ID   ID                                                   Usage      |\n",
      "|=============================================================================|\n",
      "|  No running processes found                                                 |\n",
      "+-----------------------------------------------------------------------------+\n"
     ]
    }
   ],
   "source": [
    "# Show the GPU info\n",
    "\n",
    "!nvidia-smi\n"
   ]
  },
  {
   "cell_type": "code",
   "execution_count": 3,
   "metadata": {
    "colab": {
     "base_uri": "https://localhost:8080/"
    },
    "id": "7E5BeyBECTv-",
    "outputId": "61b83ac5-5cdb-4cab-85ea-400d0cd0b27b"
   },
   "outputs": [
    {
     "name": "stdout",
     "output_type": "stream",
     "text": [
      "1.10.0+cu111\n"
     ]
    },
    {
     "data": {
      "text/plain": [
       "True"
      ]
     },
     "execution_count": 3,
     "metadata": {},
     "output_type": "execute_result"
    }
   ],
   "source": [
    "import torch\n",
    "print(torch.__version__)\n",
    "torch.cuda.is_available()\n"
   ]
  },
  {
   "cell_type": "markdown",
   "metadata": {
    "id": "B9PNWUT6B7PZ"
   },
   "source": [
    "# Git clone your project"
   ]
  },
  {
   "cell_type": "code",
   "execution_count": 4,
   "metadata": {
    "colab": {
     "base_uri": "https://localhost:8080/"
    },
    "id": "1eY88JJfCbGq",
    "outputId": "235b410d-5437-4888-b8d8-a62cf4c9a4bb"
   },
   "outputs": [
    {
     "name": "stdout",
     "output_type": "stream",
     "text": [
      "fatal: destination path 'Object-Detection' already exists and is not an empty directory.\n"
     ]
    }
   ],
   "source": [
    "!git clone https://github.com/YCHung1998/Object-Detection.git"
   ]
  },
  {
   "cell_type": "code",
   "execution_count": 5,
   "metadata": {
    "colab": {
     "base_uri": "https://localhost:8080/"
    },
    "id": "cwrPMhytCg7P",
    "outputId": "2326d972-9739-486c-e008-6c210c8f91df"
   },
   "outputs": [
    {
     "name": "stdout",
     "output_type": "stream",
     "text": [
      "/content/gdrive/MyDrive/Colab Notebooks/DL/Object-Detection\n"
     ]
    }
   ],
   "source": [
    "%cd Object-Detection"
   ]
  },
  {
   "cell_type": "markdown",
   "metadata": {
    "id": "6CDtEOHrB0AW"
   },
   "source": [
    "# Install Dependencies"
   ]
  },
  {
   "cell_type": "code",
   "execution_count": 6,
   "metadata": {
    "colab": {
     "base_uri": "https://localhost:8080/"
    },
    "id": "odjqZd_9Fonh",
    "outputId": "ce48e631-d654-4eb7-fc57-b34b6e707dcb"
   },
   "outputs": [
    {
     "name": "stdout",
     "output_type": "stream",
     "text": [
      "/content/gdrive/MyDrive/Colab Notebooks/DL/Object-Detection/yolov5\n",
      "\u001b[K     |████████████████████████████████| 596 kB 5.1 MB/s \n",
      "\u001b[?25h/content/gdrive/My Drive/Colab Notebooks/DL/Object-Detection\n"
     ]
    }
   ],
   "source": [
    "%cd yolov5\n",
    "%pip install -qr requirements.txt  # install\n",
    "%cd /content/gdrive/My Drive/Colab Notebooks/DL/Object-Detection"
   ]
  },
  {
   "cell_type": "markdown",
   "metadata": {
    "id": "nlwSisUDD8DV"
   },
   "source": [
    "# Wget testing data "
   ]
  },
  {
   "cell_type": "code",
   "execution_count": 7,
   "metadata": {
    "id": "2IxMgXFhDRzX"
   },
   "outputs": [],
   "source": [
    "# You must import the below 5 packages\n",
    "import os\n",
    "import cv2\n",
    "import time\n",
    "from tqdm import tqdm\n",
    "from google_drive_downloader import GoogleDriveDownloader as gdd\n"
   ]
  },
  {
   "cell_type": "code",
   "execution_count": 1,
   "metadata": {
    "id": "uDj20gOfDaa6"
   },
   "outputs": [
    {
     "ename": "NameError",
     "evalue": "name 'gdd' is not defined",
     "output_type": "error",
     "traceback": [
      "\u001b[1;31m---------------------------------------------------------------------------\u001b[0m",
      "\u001b[1;31mNameError\u001b[0m                                 Traceback (most recent call last)",
      "\u001b[1;32m~\\AppData\\Local\\Temp/ipykernel_11160/2653235175.py\u001b[0m in \u001b[0;36m<module>\u001b[1;34m\u001b[0m\n\u001b[0;32m      1\u001b[0m \u001b[1;31m# 1. Download the testing data\u001b[0m\u001b[1;33m\u001b[0m\u001b[1;33m\u001b[0m\u001b[0m\n\u001b[0;32m      2\u001b[0m \u001b[0mfile_id\u001b[0m\u001b[1;33m=\u001b[0m\u001b[1;34m'1Fm-avdeNgzhPxhvia0iw9yZzcoOggy7I'\u001b[0m\u001b[1;33m\u001b[0m\u001b[1;33m\u001b[0m\u001b[0m\n\u001b[1;32m----> 3\u001b[1;33m gdd.download_file_from_google_drive(file_id=file_id,\n\u001b[0m\u001b[0;32m      4\u001b[0m                                     \u001b[0mdest_path\u001b[0m\u001b[1;33m=\u001b[0m\u001b[1;34m'./test.zip'\u001b[0m\u001b[1;33m,\u001b[0m\u001b[1;33m\u001b[0m\u001b[1;33m\u001b[0m\u001b[0m\n\u001b[0;32m      5\u001b[0m                                     unzip=True)\n",
      "\u001b[1;31mNameError\u001b[0m: name 'gdd' is not defined"
     ]
    }
   ],
   "source": [
    "# 1. Download the testing data\n",
    "file_id = '1Fm-avdeNgzhPxhvia0iw9yZzcoOggy7I'\n",
    "gdd.download_file_from_google_drive(file_id=file_id,\n",
    "                                    dest_path='./test.zip',\n",
    "                                    unzip=True)\n",
    "# 2. Read the image_name and put them into the list\n",
    "# You need to modify the path to fit your test_folder\n",
    "\n",
    "data_listdir = os.listdir(\"test/\")\n"
   ]
  },
  {
   "cell_type": "code",
   "execution_count": 9,
   "metadata": {
    "colab": {
     "base_uri": "https://localhost:8080/"
    },
    "id": "zepKWJOJF1wz",
    "outputId": "8aa2958b-8d29-4c7f-9ce4-f90830aa85b0"
   },
   "outputs": [
    {
     "data": {
      "text/plain": [
       "13068"
      ]
     },
     "execution_count": 9,
     "metadata": {},
     "output_type": "execute_result"
    }
   ],
   "source": [
    "len(data_listdir)"
   ]
  },
  {
   "cell_type": "markdown",
   "metadata": {
    "id": "lGUqi2hjfpBV"
   },
   "source": [
    "# load model"
   ]
  },
  {
   "cell_type": "code",
   "execution_count": 10,
   "metadata": {
    "colab": {
     "base_uri": "https://localhost:8080/"
    },
    "id": "996i12PYIPEw",
    "outputId": "bc18f1a2-f8a6-4db2-86af-ccef11b8f07e"
   },
   "outputs": [
    {
     "name": "stdout",
     "output_type": "stream",
     "text": [
      "/content/gdrive/My Drive/Colab Notebooks/DL/Object-Detection/yolov5\n"
     ]
    }
   ],
   "source": [
    "%cd / content / gdrive / My Drive / Colab Notebooks / DL / Object-Detection / yolov5\n"
   ]
  },
  {
   "cell_type": "code",
   "execution_count": 11,
   "metadata": {
    "colab": {
     "base_uri": "https://localhost:8080/"
    },
    "id": "Sh8_6j0Ha7B1",
    "outputId": "57205dbf-d4b0-4642-afa2-09729c9c07fb"
   },
   "outputs": [
    {
     "name": "stdout",
     "output_type": "stream",
     "text": [
      "Downloading https://ultralytics.com/assets/Arial.ttf to /root/.config/Ultralytics/Arial.ttf...\n"
     ]
    }
   ],
   "source": [
    "from utils.datasets import LoadStreams, LoadImages\n",
    "from utils.torch_utils import select_device\n",
    "from pathlib import Path\n",
    "import json\n",
    "import cv2\n",
    "import torch\n",
    "import torch.backends.cudnn as cudnn\n",
    "from numpy import random\n",
    "from models.experimental import attempt_load\n",
    "from utils.general import (\n",
    "    check_img_size, non_max_suppression, apply_classifier, scale_coords,\n",
    "    xyxy2xywh, strip_optimizer, set_logging)\n",
    "from utils.torch_utils import select_device\n",
    "from models.experimental import attempt_load\n"
   ]
  },
  {
   "cell_type": "code",
   "execution_count": 12,
   "metadata": {
    "colab": {
     "base_uri": "https://localhost:8080/"
    },
    "id": "uIksqPJLdC99",
    "outputId": "3d199e21-d363-4991-ece9-f44c5e7fd3b4"
   },
   "outputs": [
    {
     "name": "stderr",
     "output_type": "stream",
     "text": [
      "Fusing layers... \n",
      "Model Summary: 290 layers, 20889303 parameters, 0 gradients, 48.1 GFLOPs\n"
     ]
    }
   ],
   "source": [
    "if torch.cuda.is_available():\n",
    "    device = torch.device('cuda:0')\n",
    "else:\n",
    "    device = \"cpu\"\n",
    "imgsz = 640\n",
    "\n",
    "weights = 'runs/train/exp/weights/best.pt'\n",
    "model = attempt_load(weights, map_location=device)  # load FP32 model\n",
    "imgsz = check_img_size(imgsz, s=model.stride.max())  # check img_size\n"
   ]
  },
  {
   "cell_type": "markdown",
   "metadata": {
    "id": "dXYs4sbqD38O"
   },
   "source": [
    "# Run inferene and bench mark"
   ]
  },
  {
   "cell_type": "code",
   "execution_count": 13,
   "metadata": {
    "colab": {
     "base_uri": "https://localhost:8080/"
    },
    "id": "M0U2xeDQJGRg",
    "outputId": "a3de6cd5-78cb-40bb-b764-60a8d1e7d4f0"
   },
   "outputs": [
    {
     "name": "stdout",
     "output_type": "stream",
     "text": [
      "/content/gdrive/My Drive/Colab Notebooks/DL/Object-Detection\n"
     ]
    }
   ],
   "source": [
    "%cd /content/gdrive/My Drive/Colab Notebooks/DL/Object-Detection"
   ]
  },
  {
   "cell_type": "code",
   "execution_count": 14,
   "metadata": {
    "colab": {
     "base_uri": "https://localhost:8080/",
     "height": 35
    },
    "id": "0nZv1-WjJZ7A",
    "outputId": "06eb8772-19ea-49e2-e3c8-2f7e0d5152fa"
   },
   "outputs": [
    {
     "data": {
      "application/vnd.google.colaboratory.intrinsic+json": {
       "type": "string"
      },
      "text/plain": [
       "'/content/gdrive/My Drive/Colab Notebooks/DL/Object-Detection'"
      ]
     },
     "execution_count": 14,
     "metadata": {},
     "output_type": "execute_result"
    }
   ],
   "source": [
    "pwd"
   ]
  },
  {
   "cell_type": "code",
   "execution_count": 21,
   "metadata": {
    "colab": {
     "base_uri": "https://localhost:8080/"
    },
    "id": "Zyi3zQNOLqT4",
    "outputId": "644c8127-c3cd-42b4-f7f1-9f4c22b301ce"
   },
   "outputs": [
    {
     "name": "stdout",
     "output_type": "stream",
     "text": [
      "100\n",
      "['/content/gdrive/My Drive/Colab Notebooks/DL/Object-Detection/test/117.png', '/content/gdrive/My Drive/Colab Notebooks/DL/Object-Detection/test/162.png', '/content/gdrive/My Drive/Colab Notebooks/DL/Object-Detection/test/196.png', '/content/gdrive/My Drive/Colab Notebooks/DL/Object-Detection/test/203.png', '/content/gdrive/My Drive/Colab Notebooks/DL/Object-Detection/test/256.png', '/content/gdrive/My Drive/Colab Notebooks/DL/Object-Detection/test/319.png', '/content/gdrive/My Drive/Colab Notebooks/DL/Object-Detection/test/345.png', '/content/gdrive/My Drive/Colab Notebooks/DL/Object-Detection/test/372.png', '/content/gdrive/My Drive/Colab Notebooks/DL/Object-Detection/test/397.png', '/content/gdrive/My Drive/Colab Notebooks/DL/Object-Detection/test/401.png']\n"
     ]
    },
    {
     "name": "stderr",
     "output_type": "stream",
     "text": [
      "100%|██████████| 100/100 [00:05<00:00, 19.61it/s]"
     ]
    },
    {
     "name": "stdout",
     "output_type": "stream",
     "text": [
      "\n",
      "Inference time per image:  0.051053750514984134\n"
     ]
    },
    {
     "name": "stderr",
     "output_type": "stream",
     "text": [
      "\n"
     ]
    }
   ],
   "source": [
    "# Test your inference time\n",
    "TEST_IMAGE_NUMBER = 100  # This number is fixed.\n",
    "test_img_list = []\n",
    "\n",
    "# Read image (Be careful with the image order)\n",
    "data_listdir.sort(key=lambda x: int(x[:-4]))\n",
    "path = r\"/content/gdrive/My Drive/Colab Notebooks/DL/Object-Detection/test\"\n",
    "for img_name in data_listdir[:TEST_IMAGE_NUMBER]:\n",
    "    img_path = os.path.join(path, img_name)\n",
    "    test_img_list.append(img_path)\n",
    "print(len(test_img_list))\n",
    "print(test_img_list[:10])\n",
    "\n",
    "start_time = time.time()\n",
    "model.eval()\n",
    "JSON = []\n",
    "for img_path in tqdm(test_img_list):\n",
    "    dataset = LoadImages(img_path, img_size=imgsz)\n",
    "    for path, img, im0, vid_cap, s in dataset:\n",
    "        # get image id\n",
    "        img_id = path.split('\\\\')[-1]  # '100000.png'\n",
    "\n",
    "        # predict\n",
    "        img = torch.from_numpy(img).float().to(device)\n",
    "        img /= 255.0\n",
    "        img = img.unsqueeze(0)\n",
    "\n",
    "        # pred = model(img, augment=True)[0]\n",
    "\n",
    "        pred = model(img, augment=False)[0]\n",
    "        pred = non_max_suppression(pred)\n",
    "\n",
    "        for det in pred:  # for prediction in mini-batch size\n",
    "\n",
    "            if len(det):\n",
    "                # (x, y, x, y, score, cls_id)\n",
    "                det[:, :4] = scale_coords(img.shape[2:], det[:, :4], im0.shape)\n",
    "\n",
    "                for *xyxy, conf, cls in det:\n",
    "                    '''\n",
    "                    {'image_id': 100000, 'category_id': cls_id, 'score': score,\n",
    "                     'bbox': [x, y, w, h]}\n",
    "                    '''\n",
    "                    xyxy = [float(c) for c in xyxy]\n",
    "                    conf = float(conf)\n",
    "                    cls = int(cls)\n",
    "\n",
    "                    x1, y1, x2, y2 = xyxy\n",
    "                    w = x2 - x1\n",
    "                    h = y2 - y1\n",
    "                    bbox = {'image_id': img_id,\n",
    "                            'category_id': cls,\n",
    "                            'score': conf,\n",
    "                            'bbox': [x1, y1, w, h]}\n",
    "                    JSON.append(bbox)\n",
    "end_time = time.time()\n",
    "print(\"\\nInference time per image: \",\n",
    "      (end_time - start_time) / len(test_img_list))\n",
    "# Remember to screenshot!\n"
   ]
  },
  {
   "cell_type": "markdown",
   "metadata": {
    "id": "XFvvjghlEK5u"
   },
   "source": [
    "# Generate answer.json for submission on Codalab"
   ]
  },
  {
   "cell_type": "markdown",
   "metadata": {
    "id": "TBrht9xYXe0s"
   },
   "source": [
    "- Please use the inference.py to generate the answer.json which will be save in the testing folder\n",
    "- Warning : Please insure that the columns 27 in inference.py  \n",
    "as the root represnted as \"/DL_HW2/YC/datasets/Testing/images/100000.png\"\n",
    "\n",
    "```\n",
    "img_id = path.split('/')[-1] # '100000.png' \n",
    "```\n",
    "as the root represnted as \"\\\\DL_HW2\\\\YC\\\\datasets\\\\Testing\\\\images\\\\100000.png\"\n",
    "\n",
    "```\n",
    "img_id = path.split('\\\\')[-1] # '100000.png' \n",
    "```"
   ]
  }
 ],
 "metadata": {
  "accelerator": "GPU",
  "colab": {
   "collapsed_sections": [],
   "name": "colab_inference1124read.ipynb",
   "provenance": []
  },
  "kernelspec": {
   "display_name": "Python 3 (ipykernel)",
   "language": "python",
   "name": "python3"
  },
  "language_info": {
   "codemirror_mode": {
    "name": "ipython",
    "version": 3
   },
   "file_extension": ".py",
   "mimetype": "text/x-python",
   "name": "python",
   "nbconvert_exporter": "python",
   "pygments_lexer": "ipython3",
   "version": "3.9.7"
  }
 },
 "nbformat": 4,
 "nbformat_minor": 4
}
